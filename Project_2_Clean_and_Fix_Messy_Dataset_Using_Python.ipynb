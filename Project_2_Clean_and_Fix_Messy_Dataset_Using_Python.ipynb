{
  "nbformat": 4,
  "nbformat_minor": 0,
  "metadata": {
    "colab": {
      "provenance": [],
      "authorship_tag": "ABX9TyOohqrlHEp2lRNxp+CztyTF",
      "include_colab_link": true
    },
    "kernelspec": {
      "name": "python3",
      "display_name": "Python 3"
    },
    "language_info": {
      "name": "python"
    }
  },
  "cells": [
    {
      "cell_type": "markdown",
      "metadata": {
        "id": "view-in-github",
        "colab_type": "text"
      },
      "source": [
        "<a href=\"https://colab.research.google.com/github/icteer01/Clean-and-Fix-Messy-Dataset-Using-Python/blob/main/Project_2_Clean_and_Fix_Messy_Dataset_Using_Python.ipynb\" target=\"_parent\"><img src=\"https://colab.research.google.com/assets/colab-badge.svg\" alt=\"Open In Colab\"/></a>"
      ]
    },
    {
      "cell_type": "code",
      "source": [
        "import pandas as pd\n",
        "\n",
        "#Creation of messy dataset.\n",
        "data = {\n",
        "    'Name': ['James', 'michael', 'robert', 'John', None, 'David', 'william', 'Richard',\n",
        "             'Mark', 'william', 'Alice', 'linda', 'susan', 'jessica', 'Karen', 'Nancy',\n",
        "             'Amanda', 'deborah', 'Alice', 'kimberly'],\n",
        "    'Age': [22, 36, 38, 35 ,None, 26, 28, 26, 27, 28, 26, 12, 26, 38, 28, None, 30, 35, 26, 22],\n",
        "    'Country': ['usa', 'us', None, 'United States', 'aus', 'United Kingdom', 'aus', 'uk', 'Mexico',\n",
        "                'Australia', 'Brazil', 'bra', None, 'mex', 'uk', 'United States', 'Argentina', 'Mexico',\n",
        "                'bra', 'uk']\n",
        "}\n",
        "\n",
        "df = pd.DataFrame(data)\n",
        "print(df)"
      ],
      "metadata": {
        "colab": {
          "base_uri": "https://localhost:8080/"
        },
        "id": "g_Ab5V25euqn",
        "outputId": "d89b7bea-726f-4814-e947-05a44b4068a9"
      },
      "execution_count": 66,
      "outputs": [
        {
          "output_type": "stream",
          "name": "stdout",
          "text": [
            "        Name   Age         Country\n",
            "0      James  22.0             usa\n",
            "1    michael  36.0              us\n",
            "2     robert  38.0            None\n",
            "3       John  35.0   United States\n",
            "4       None   NaN             aus\n",
            "5      David  26.0  United Kingdom\n",
            "6    william  28.0             aus\n",
            "7    Richard  26.0              uk\n",
            "8       Mark  27.0          Mexico\n",
            "9    william  28.0       Australia\n",
            "10     Alice  26.0          Brazil\n",
            "11     linda  12.0             bra\n",
            "12     susan  26.0            None\n",
            "13   jessica  38.0             mex\n",
            "14     Karen  28.0              uk\n",
            "15     Nancy   NaN   United States\n",
            "16    Amanda  30.0       Argentina\n",
            "17   deborah  35.0          Mexico\n",
            "18     Alice  26.0             bra\n",
            "19  kimberly  22.0              uk\n"
          ]
        }
      ]
    },
    {
      "cell_type": "code",
      "source": [
        "#Removes whitespace, ensures each name is properly capitalized.\n",
        "df['Name'] = df['Name'].str.strip().str.title()\n",
        "\n",
        "#Fills is missing age values with median age range.\n",
        "df['Age'] = df['Age'].fillna(df['Age'].median())\n",
        "\n",
        "#Applies Uniformity to country abbreviations and format.\n",
        "df['Country'] = df['Country'].replace({\n",
        "    'usa': 'United States',\n",
        "    'us': 'United States',\n",
        "    'aus': 'Australia',\n",
        "    'bra': 'Brazil',\n",
        "    'mex': 'Mexico',\n",
        "    'uk': 'United Kingdom'\n",
        "})\n",
        "\n",
        "#Fills missing countries with 'Unknown' variable.\n",
        "df['Country'] = df['Country'].fillna('Unknown')\n",
        "\n",
        "#Sorts names alphabetically.\n",
        "#Removes any duplicates from the table for better comprehension.\n",
        "dfsort = df.sort_values(by='Name', ascending=True).drop_duplicates('Name')\n",
        "print(dfsort)"
      ],
      "metadata": {
        "colab": {
          "base_uri": "https://localhost:8080/"
        },
        "id": "daYvvLDPlN-p",
        "outputId": "65777840-2307-41f7-a491-c8757aa059e0"
      },
      "execution_count": 67,
      "outputs": [
        {
          "output_type": "stream",
          "name": "stdout",
          "text": [
            "        Name   Age         Country\n",
            "10     Alice  26.0          Brazil\n",
            "16    Amanda  30.0       Argentina\n",
            "5      David  26.0  United Kingdom\n",
            "17   Deborah  35.0          Mexico\n",
            "0      James  22.0   United States\n",
            "13   Jessica  38.0          Mexico\n",
            "3       John  35.0   United States\n",
            "14     Karen  28.0  United Kingdom\n",
            "19  Kimberly  22.0  United Kingdom\n",
            "11     Linda  12.0          Brazil\n",
            "8       Mark  27.0          Mexico\n",
            "1    Michael  36.0   United States\n",
            "15     Nancy  27.5   United States\n",
            "7    Richard  26.0  United Kingdom\n",
            "2     Robert  38.0         Unknown\n",
            "12     Susan  26.0         Unknown\n",
            "9    William  28.0       Australia\n",
            "4       None  27.5       Australia\n"
          ]
        }
      ]
    }
  ]
}