{
  "nbformat": 4,
  "nbformat_minor": 0,
  "metadata": {
    "colab": {
      "provenance": [],
      "authorship_tag": "ABX9TyPUWp3NJ/iBNZSGxF+QMqqE"
    },
    "kernelspec": {
      "name": "python3",
      "display_name": "Python 3"
    },
    "language_info": {
      "name": "python"
    }
  },
  "cells": [
    {
      "cell_type": "code",
      "source": [
        "import pandas as pd\n",
        "\n",
        "#Creation of messy dataset.\n",
        "data = {\n",
        "    'Name': [\n",
        "        'James', 'michael', 'robert', 'John', None, 'David', 'william', 'Richard',\n",
        "        'Mark', 'william', 'Alice', 'linda', 'susan', 'jessica', 'Karen', 'Nancy',\n",
        "        'Amanda', 'deborah', 'Alice', 'kimberly'\n",
        "    ],\n",
        "\n",
        "    'Age': [\n",
        "        22, 36, 38, 35 ,None, 26, 28, 26,\n",
        "        27, 28, 26, 12, 26, 38, 28, None,\n",
        "        30, 35, 26, 22\n",
        "    ],\n",
        "\n",
        "    'Country': [\n",
        "        'usa', 'us', None, 'United States', 'aus', 'United Kingdom', 'aus', 'uk',\n",
        "        'Mexico', 'Australia', 'Brazil', 'bra', None, 'mex', 'uk', 'United States',\n",
        "        'Argentina', 'Mexico', 'bra', 'uk'\n",
        "    ],\n",
        "\n",
        "    'Salary': [\n",
        "        112500, 84300, 72300, 92500, 61300, 79300, 85600, 87100,\n",
        "        97100, 135200, 56000, 34200, 123200, 89000, 176200, 200132,\n",
        "        94000, 76400, 123400, 65000\n",
        "    ]\n",
        "}\n",
        "\n",
        "df = pd.DataFrame(data)\n",
        "print(df)"
      ],
      "metadata": {
        "colab": {
          "base_uri": "https://localhost:8080/"
        },
        "id": "g_Ab5V25euqn",
        "outputId": "1209870f-74e0-4b34-bba0-a9ae68421130"
      },
      "execution_count": 76,
      "outputs": [
        {
          "output_type": "stream",
          "name": "stdout",
          "text": [
            "        Name   Age         Country  Salary\n",
            "0      James 22.00             usa  112500\n",
            "1    michael 36.00              us   84300\n",
            "2     robert 38.00            None   72300\n",
            "3       John 35.00   United States   92500\n",
            "4       None   NaN             aus   61300\n",
            "5      David 26.00  United Kingdom   79300\n",
            "6    william 28.00             aus   85600\n",
            "7    Richard 26.00              uk   87100\n",
            "8       Mark 27.00          Mexico   97100\n",
            "9    william 28.00       Australia  135200\n",
            "10     Alice 26.00          Brazil   56000\n",
            "11     linda 12.00             bra   34200\n",
            "12     susan 26.00            None  123200\n",
            "13   jessica 38.00             mex   89000\n",
            "14     Karen 28.00              uk  176200\n",
            "15     Nancy   NaN   United States  200132\n",
            "16    Amanda 30.00       Argentina   94000\n",
            "17   deborah 35.00          Mexico   76400\n",
            "18     Alice 26.00             bra  123400\n",
            "19  kimberly 22.00              uk   65000\n"
          ]
        }
      ]
    },
    {
      "cell_type": "code",
      "source": [
        "#Removes whitespace, ensures each name is properly capitalized.\n",
        "df['Name'] = df['Name'].str.strip().str.title()\n",
        "\n",
        "#Fills in missing age values with median age value.\n",
        "df['Age'] = df['Age'].fillna(df['Age'].median())\n",
        "\n",
        "#Applies Uniformity to country abbreviations and formatting.\n",
        "df['Country'] = df['Country'].replace({\n",
        "    'usa': 'United States',\n",
        "    'us': 'United States',\n",
        "    'aus': 'Australia',\n",
        "    'bra': 'Brazil',\n",
        "    'mex': 'Mexico',\n",
        "    'uk': 'United Kingdom'\n",
        "})\n",
        "\n",
        "#Fills missing countries with 'Unknown' variable.\n",
        "df['Country'] = df['Country'].fillna('Unknown')\n",
        "\n",
        "#Sets salary datatype as floating-point number.\n",
        "df['Salary'] = df['Salary'].astype(float)\n",
        "\n",
        "#Formats the salary values to include commas.\n",
        "pd.set_option('display.float_format', '{:,}'.format)\n",
        "\n",
        "#Sorts names alphabetically.\n",
        "#Removes any duplicates from the table for better comprehension.\n",
        "dfsort = df.sort_values(by='Name', ascending=True).drop_duplicates('Name')\n",
        "print(dfsort)"
      ],
      "metadata": {
        "colab": {
          "base_uri": "https://localhost:8080/"
        },
        "id": "daYvvLDPlN-p",
        "outputId": "7068e201-d730-4fa7-b87b-605417ef35f6"
      },
      "execution_count": 83,
      "outputs": [
        {
          "output_type": "stream",
          "name": "stdout",
          "text": [
            "        Name  Age         Country    Salary\n",
            "10     Alice 26.0          Brazil  56,000.0\n",
            "16    Amanda 30.0       Argentina  94,000.0\n",
            "5      David 26.0  United Kingdom  79,300.0\n",
            "17   Deborah 35.0          Mexico  76,400.0\n",
            "0      James 22.0   United States 112,500.0\n",
            "13   Jessica 38.0          Mexico  89,000.0\n",
            "3       John 35.0   United States  92,500.0\n",
            "14     Karen 28.0  United Kingdom 176,200.0\n",
            "19  Kimberly 22.0  United Kingdom  65,000.0\n",
            "11     Linda 12.0          Brazil  34,200.0\n",
            "8       Mark 27.0          Mexico  97,100.0\n",
            "1    Michael 36.0   United States  84,300.0\n",
            "15     Nancy 27.5   United States 200,132.0\n",
            "7    Richard 26.0  United Kingdom  87,100.0\n",
            "2     Robert 38.0         Unknown  72,300.0\n",
            "12     Susan 26.0         Unknown 123,200.0\n",
            "9    William 28.0       Australia 135,200.0\n",
            "4       None 27.5       Australia  61,300.0\n"
          ]
        }
      ]
    }
  ]
}
